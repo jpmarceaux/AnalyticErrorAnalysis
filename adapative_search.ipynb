{
 "cells": [
  {
   "cell_type": "code",
   "execution_count": 1,
   "metadata": {
    "collapsed": true,
    "ExecuteTime": {
     "start_time": "2023-04-24T14:55:20.573084Z",
     "end_time": "2023-04-24T14:55:22.639259Z"
    }
   },
   "outputs": [],
   "source": [
    "from kalman_gst import *\n",
    "from pygsti.modelpacks import smq1Q_XYZI as std"
   ]
  },
  {
   "cell_type": "code",
   "execution_count": null,
   "outputs": [],
   "source": [],
   "metadata": {
    "collapsed": false
   }
  },
  {
   "cell_type": "code",
   "execution_count": 5,
   "outputs": [],
   "source": [
    "from error_generators import ErrorGen"
   ],
   "metadata": {
    "collapsed": false,
    "ExecuteTime": {
     "start_time": "2023-04-24T14:55:49.549746Z",
     "end_time": "2023-04-24T14:55:49.940216Z"
    }
   }
  },
  {
   "cell_type": "code",
   "execution_count": 6,
   "outputs": [
    {
     "name": "stderr",
     "output_type": "stream",
     "text": [
      "/home/jpmarceaux/PycharmProjects/AnalyticErrorAnalysis/venv/lib/python3.10/site-packages/pygsti/modelmembers/operations/lindbladerrorgen.py:1691: UserWarning: Using 'CPTP' as a Lindblad type is deprecated, and you should now use 'CPTPLND'\n",
      "  _warnings.warn(\"Using 'CPTP' as a Lindblad type is deprecated, and you should now use 'CPTPLND'\")\n"
     ]
    },
    {
     "data": {
      "text/plain": "[{H}^{X}_{Gq0},\n {H}^{Y}_{Gq0},\n {H}^{Z}_{Gq0},\n {S}^{X}_{Gq0},\n {C}^{XxY}_{Gq0},\n {A}^{XxY}_{Gq0},\n {C}^{XxZ}_{Gq0},\n {A}^{XxZ}_{Gq0},\n {S}^{Y}_{Gq0},\n {C}^{YxZ}_{Gq0},\n {A}^{YxZ}_{Gq0},\n {S}^{Z}_{Gq0}]"
     },
     "execution_count": 6,
     "metadata": {},
     "output_type": "execute_result"
    }
   ],
   "source": [
    "egen = ErrorGen(1)\n",
    "egen.vec"
   ],
   "metadata": {
    "collapsed": false,
    "ExecuteTime": {
     "start_time": "2023-04-24T14:55:49.941139Z",
     "end_time": "2023-04-24T14:55:49.968425Z"
    }
   }
  },
  {
   "cell_type": "code",
   "execution_count": 10,
   "outputs": [],
   "source": [
    "Sx = egen.vec[3]\n",
    "Sz = egen.vec[-1]\n",
    "Sy = egen.vec[8]\n",
    "Hx = egen.vec[0]\n"
   ],
   "metadata": {
    "collapsed": false,
    "ExecuteTime": {
     "start_time": "2023-04-24T14:57:08.917482Z",
     "end_time": "2023-04-24T14:57:08.968777Z"
    }
   }
  },
  {
   "cell_type": "code",
   "execution_count": 12,
   "outputs": [
    {
     "name": "stdout",
     "output_type": "stream",
     "text": [
      "{S}^{X}_{Gq0} {S}^{Y}_{Gq0} {S}^{Z}_{Gq0}\n"
     ]
    }
   ],
   "source": [
    "print(Sx, Sy, Sz)"
   ],
   "metadata": {
    "collapsed": false,
    "ExecuteTime": {
     "start_time": "2023-04-24T14:57:25.033093Z",
     "end_time": "2023-04-24T14:57:25.045685Z"
    }
   }
  },
  {
   "cell_type": "code",
   "execution_count": 13,
   "outputs": [
    {
     "data": {
      "text/plain": "array([[ 0.,  0.,  0.,  0.],\n       [ 0., -4.,  0.,  0.],\n       [ 0.,  0., -4.,  0.],\n       [ 0.,  0.,  0., -4.]])"
     },
     "execution_count": 13,
     "metadata": {},
     "output_type": "execute_result"
    }
   ],
   "source": [
    "egen.feature_of_param(Sx)+egen.feature_of_param(Sy)+egen.feature_of_param(Sz)"
   ],
   "metadata": {
    "collapsed": false,
    "ExecuteTime": {
     "start_time": "2023-04-24T14:57:51.440603Z",
     "end_time": "2023-04-24T14:57:51.493836Z"
    }
   }
  },
  {
   "cell_type": "code",
   "execution_count": 2,
   "outputs": [],
   "source": [
    "shots_per_circuit = 256\n",
    "\n",
    "# setup the FOGI model\n",
    "mdl_datagen = std.target_model('GLND')\n",
    "basis1q = pygsti.baseobjs.Basis.cast('pp', 4)\n",
    "gauge_basis = pygsti.baseobjs.CompleteElementaryErrorgenBasis(\n",
    "                        basis1q, mdl_datagen.state_space, elementary_errorgen_types='HS')\n",
    "mdl_datagen.setup_fogi(gauge_basis, None, None, reparameterize=True,\n",
    "                     dependent_fogi_action='drop', include_spam=True)\n",
    "target_model = mdl_datagen.copy()"
   ],
   "metadata": {
    "collapsed": false,
    "ExecuteTime": {
     "start_time": "2023-04-24T14:55:22.614174Z",
     "end_time": "2023-04-24T14:55:23.648710Z"
    }
   }
  },
  {
   "cell_type": "code",
   "execution_count": 3,
   "outputs": [
    {
     "name": "stderr",
     "output_type": "stream",
     "text": [
      "\n",
      "KeyboardInterrupt\n",
      "\n"
     ]
    }
   ],
   "source": [
    "# add noise to the model\n",
    "SEED = 3122\n",
    "np.random.seed(SEED)\n",
    "\n",
    "max_error_rate = 0.001\n",
    "ar = mdl_datagen.fogi_errorgen_components_array(include_fogv=False, normalized_elem_gens=True)\n",
    "ar = max_error_rate*np.random.rand(len(ar))\n",
    "mdl_datagen.set_fogi_errorgen_components_array(ar, include_fogv=False, normalized_elem_gens=True)\n",
    "\n",
    "mdl_datagen.from_vector(project_params_to_cp(mdl_datagen))\n",
    "\n",
    "print('MSE with target', mserror(mdl_datagen, target_model))\n",
    "print('agi with target', avg_gs_infidelity(mdl_datagen, target_model))\n",
    "print('model is cptp', model_is_cptp(mdl_datagen))"
   ],
   "metadata": {
    "collapsed": false,
    "ExecuteTime": {
     "start_time": "2023-04-17T14:43:49.515678Z",
     "end_time": "2023-04-17T14:44:14.897923Z"
    }
   }
  },
  {
   "cell_type": "code",
   "execution_count": null,
   "outputs": [],
   "source": [
    "class ExtendedKalmanFilter():\n",
    "    \"\"\"\n",
    "    An extended Kalman filter for gate-set tomography\n",
    "\n",
    "    --- Parameters ---\n",
    "    model: an underlying pygsti model\n",
    "    num_params: number of parameters in the pygsti model\n",
    "    P: current covariance matrix\n",
    "    \"\"\"\n",
    "    def __init__(self, model, P0):\n",
    "        self.model = model.copy()\n",
    "        self.P = P0\n",
    "\n",
    "        self.param_history = [self.model.to_vector()]\n",
    "        self.covar_history = [self.P]\n",
    "\n",
    "    def update(self, circ, count_vec, clip_range=[-1,1], Q=None, R_additional=None, max_itr=1, itr_eps=1e-4):\n",
    "        \"\"\"\n",
    "        Makes an exact update to the model\n",
    "        where the jacobian is calculated as the current estimate\n",
    "\n",
    "        --- Arguments ---\n",
    "        circ: pygsti circuit used in the update\n",
    "        count_vec: vector of observed counts\n",
    "        clip_range: reasonable clipping range for the parameter update\n",
    "        Q: state-space covariance\n",
    "        R_additional: additional measurement covariance\n",
    "        max_itr: maximum number of iterations to the update\n",
    "        itr_eps: epsilon for minimum difference to end iterated updates\n",
    "\n",
    "        --- Returns ---\n",
    "        innovation: the prior innovation\n",
    "        kgain: the Kalman gain\n",
    "        \"\"\"\n",
    "        prior_covar = self.P\n",
    "        prior_state = self.model.to_vector()\n",
    "        hilbert_dims = 2**(circ.width)\n",
    "\n",
    "        for itr in range(max_itr):\n",
    "            # find the predicted frequency for the circuit outcome under the model\n",
    "            probs = self.model.probabilities(circ)\n",
    "            p_model = vector_from_outcomes(probs, hilbert_dims)\n",
    "\n",
    "            # calculate the observed frequency\n",
    "            total_counts = sum(count_vec)\n",
    "            observation = count_vec/total_counts\n",
    "\n",
    "            # calculate jacobian\n",
    "            jacob = matrix_from_jacob(self.model.sim.dprobs(circ), 2**circ.width)\n",
    "\n",
    "            # calculate the covaraiance of the observation\n",
    "            mean_frequency = ( count_vec+np.ones(len(count_vec)) )/( sum(count_vec)+len(count_vec) )\n",
    "            R = (1/(sum(count_vec)+len(count_vec)+1))*categorical_covar(mean_frequency)\n",
    "\n",
    "            # add any additional noise\n",
    "            if R_additional is not None:\n",
    "                R += R_additional\n",
    "            if Q is None:\n",
    "                Q = 0*np.eye(self.model.num_params)\n",
    "\n",
    "            # Kalman gain\n",
    "            P = prior_covar + Q\n",
    "            kgain = P@jacob.T@np.linalg.pinv(jacob@P@jacob.T + R, 1e-15)\n",
    "\n",
    "            # Kalman update\n",
    "            innovation = observation - p_model\n",
    "            post_state = prior_state + kgain@innovation\n",
    "            post_state = np.clip(post_state, clip_range[0], clip_range[1])\n",
    "\n",
    "            # check if iteration should end\n",
    "            if np.linalg.norm(post_state - prior_state) < itr_eps:\n",
    "                break\n",
    "            else:\n",
    "                prior_state = post_state\n",
    "                self.model.from_vector(post_state)\n",
    "\n",
    "        # update class parameters\n",
    "        self.P = (np.eye(self.model.num_params) - kgain@jacob)@P\n",
    "        self.model.from_vector(post_state)\n",
    "\n",
    "        self.param_history.append(post_state)\n",
    "        self.covar_history.append(self.P)\n",
    "\n",
    "        return innovation, kgain"
   ],
   "metadata": {
    "collapsed": false,
    "ExecuteTime": {
     "start_time": "2023-04-17T14:45:00.022558Z",
     "end_time": "2023-04-17T14:45:00.025649Z"
    }
   }
  },
  {
   "cell_type": "code",
   "execution_count": 28,
   "outputs": [],
   "source": [
    "germs = std.germs()\n",
    "pfids = std.prep_fiducials()\n",
    "mfids = std.meas_fiducials()"
   ],
   "metadata": {
    "collapsed": false,
    "ExecuteTime": {
     "start_time": "2023-04-17T14:46:29.126932Z",
     "end_time": "2023-04-17T14:46:29.173764Z"
    }
   }
  },
  {
   "cell_type": "code",
   "execution_count": 29,
   "outputs": [],
   "source": [
    "mse = mserror(mdl_datagen, target_model)"
   ],
   "metadata": {
    "collapsed": false,
    "ExecuteTime": {
     "start_time": "2023-04-17T14:48:20.088793Z",
     "end_time": "2023-04-17T14:48:20.149431Z"
    }
   }
  },
  {
   "cell_type": "code",
   "execution_count": 31,
   "outputs": [
    {
     "data": {
      "text/plain": "0.00355919143352553"
     },
     "execution_count": 31,
     "metadata": {},
     "output_type": "execute_result"
    }
   ],
   "source": [
    "np.sqrt(mse)"
   ],
   "metadata": {
    "collapsed": false,
    "ExecuteTime": {
     "start_time": "2023-04-17T14:48:51.224476Z",
     "end_time": "2023-04-17T14:48:51.244771Z"
    }
   }
  },
  {
   "cell_type": "code",
   "execution_count": null,
   "outputs": [],
   "source": [
    "max_circ_length ="
   ],
   "metadata": {
    "collapsed": false
   }
  }
 ],
 "metadata": {
  "kernelspec": {
   "display_name": "Python 3",
   "language": "python",
   "name": "python3"
  },
  "language_info": {
   "codemirror_mode": {
    "name": "ipython",
    "version": 2
   },
   "file_extension": ".py",
   "mimetype": "text/x-python",
   "name": "python",
   "nbconvert_exporter": "python",
   "pygments_lexer": "ipython2",
   "version": "2.7.6"
  }
 },
 "nbformat": 4,
 "nbformat_minor": 0
}
