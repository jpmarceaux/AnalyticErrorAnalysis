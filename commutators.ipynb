{
 "cells": [
  {
   "cell_type": "code",
   "execution_count": 5,
   "metadata": {
    "collapsed": true,
    "ExecuteTime": {
     "start_time": "2023-04-24T19:00:49.087666Z",
     "end_time": "2023-04-24T19:00:49.112625Z"
    }
   },
   "outputs": [],
   "source": [
    "from error_generators import *\n",
    "from scipy.linalg import expm, logm"
   ]
  },
  {
   "cell_type": "code",
   "execution_count": 6,
   "outputs": [],
   "source": [
    "from pygsti.modelpacks import smq1Q_XZ as std"
   ],
   "metadata": {
    "collapsed": false,
    "ExecuteTime": {
     "start_time": "2023-04-24T19:01:49.887691Z",
     "end_time": "2023-04-24T19:01:49.914467Z"
    }
   }
  },
  {
   "cell_type": "code",
   "execution_count": 14,
   "outputs": [],
   "source": [
    "target = std.target_model()\n",
    "Gx = target[('Gxpi2', 0)].to_dense()\n",
    "Gz = target[('Gzpi2', 0)].to_dense()"
   ],
   "metadata": {
    "collapsed": false,
    "ExecuteTime": {
     "start_time": "2023-04-24T19:03:05.824849Z",
     "end_time": "2023-04-24T19:03:05.827787Z"
    }
   }
  },
  {
   "cell_type": "code",
   "execution_count": null,
   "outputs": [],
   "source": [],
   "metadata": {
    "collapsed": false
   }
  },
  {
   "cell_type": "code",
   "execution_count": 17,
   "outputs": [
    {
     "data": {
      "text/plain": "array([[ 0.00000000e+00,  0.00000000e+00,  7.96907102e-18,\n         7.96907102e-18],\n       [ 0.00000000e+00,  0.00000000e+00,  0.00000000e+00,\n         0.00000000e+00],\n       [ 0.00000000e+00,  0.00000000e+00, -2.47583931e-16,\n        -1.57079633e+00],\n       [ 0.00000000e+00,  0.00000000e+00,  1.57079633e+00,\n        -1.96505279e-16]])"
     },
     "execution_count": 17,
     "metadata": {},
     "output_type": "execute_result"
    }
   ],
   "source": [
    "logm(Gx)"
   ],
   "metadata": {
    "collapsed": false,
    "ExecuteTime": {
     "start_time": "2023-04-24T19:03:22.524964Z",
     "end_time": "2023-04-24T19:03:22.544381Z"
    }
   }
  },
  {
   "cell_type": "code",
   "execution_count": 15,
   "outputs": [
    {
     "data": {
      "text/plain": "<matplotlib.image.AxesImage at 0x7fb2f0064b20>"
     },
     "execution_count": 15,
     "metadata": {},
     "output_type": "execute_result"
    },
    {
     "data": {
      "text/plain": "<Figure size 480x480 with 1 Axes>",
      "image/png": "[encoded data removed]"
     },
     "metadata": {},
     "output_type": "display_data"
    }
   ],
   "source": [
    "plt.matshow(Gx)"
   ],
   "metadata": {
    "collapsed": false,
    "ExecuteTime": {
     "start_time": "2023-04-24T19:03:06.569847Z",
     "end_time": "2023-04-24T19:03:06.765744Z"
    }
   }
  },
  {
   "cell_type": "code",
   "execution_count": 16,
   "outputs": [
    {
     "data": {
      "text/plain": "<matplotlib.image.AxesImage at 0x7fb2f00b2da0>"
     },
     "execution_count": 16,
     "metadata": {},
     "output_type": "execute_result"
    },
    {
     "data": {
      "text/plain": "<Figure size 480x480 with 1 Axes>",
      "image/png": "[encoded data removed]"
     },
     "metadata": {},
     "output_type": "display_data"
    }
   ],
   "source": [
    "plt.matshow(logm(Gx))"
   ],
   "metadata": {
    "collapsed": false,
    "ExecuteTime": {
     "start_time": "2023-04-24T19:03:07.788473Z",
     "end_time": "2023-04-24T19:03:07.983024Z"
    }
   }
  },
  {
   "cell_type": "code",
   "execution_count": 2,
   "outputs": [
    {
     "name": "stderr",
     "output_type": "stream",
     "text": [
      "/home/jpmarceaux/PycharmProjects/AnalyticErrorAnalysis/venv/lib/python3.10/site-packages/pygsti/modelmembers/operations/lindbladerrorgen.py:1691: UserWarning: Using 'CPTP' as a Lindblad type is deprecated, and you should now use 'CPTPLND'\n",
      "  _warnings.warn(\"Using 'CPTP' as a Lindblad type is deprecated, and you should now use 'CPTPLND'\")\n"
     ]
    }
   ],
   "source": [
    "egen_base = ErrorGen(1)\n"
   ],
   "metadata": {
    "collapsed": false,
    "ExecuteTime": {
     "start_time": "2023-04-24T18:59:22.355765Z",
     "end_time": "2023-04-24T18:59:22.427592Z"
    }
   }
  },
  {
   "cell_type": "code",
   "execution_count": 3,
   "outputs": [
    {
     "data": {
      "text/plain": "[{H}^{X}_{Gq0},\n {H}^{Y}_{Gq0},\n {H}^{Z}_{Gq0},\n {S}^{X}_{Gq0},\n {C}^{XxY}_{Gq0},\n {A}^{XxY}_{Gq0},\n {C}^{XxZ}_{Gq0},\n {A}^{XxZ}_{Gq0},\n {S}^{Y}_{Gq0},\n {C}^{YxZ}_{Gq0},\n {A}^{YxZ}_{Gq0},\n {S}^{Z}_{Gq0}]"
     },
     "execution_count": 3,
     "metadata": {},
     "output_type": "execute_result"
    }
   ],
   "source": [
    "egen_base.vec"
   ],
   "metadata": {
    "collapsed": false,
    "ExecuteTime": {
     "start_time": "2023-04-24T18:59:43.322809Z",
     "end_time": "2023-04-24T18:59:43.331804Z"
    }
   }
  },
  {
   "cell_type": "code",
   "execution_count": null,
   "outputs": [],
   "source": [],
   "metadata": {
    "collapsed": false
   }
  },
  {
   "cell_type": "code",
   "execution_count": 18,
   "outputs": [],
   "source": [
    "Hx = egen_base.vec[0]\n",
    "Hy = egen_base.vec[1]\n",
    "Hz = egen_base.vec[2]\n",
    "mat_Hx = egen_base.feature_of_param(Hx)\n",
    "mat_Hy = egen_base.feature_of_param(Hy)\n",
    "mat_Hz = egen_base.feature_of_param(Hz)\n"
   ],
   "metadata": {
    "collapsed": false,
    "ExecuteTime": {
     "start_time": "2023-04-24T19:04:32.080229Z",
     "end_time": "2023-04-24T19:04:32.167273Z"
    }
   }
  },
  {
   "cell_type": "code",
   "execution_count": 19,
   "outputs": [
    {
     "data": {
      "text/plain": "array([[ 0.,  0.,  0.,  0.],\n       [ 0.,  0., -2.,  0.],\n       [ 0.,  2.,  0.,  0.],\n       [ 0.,  0.,  0.,  0.]])"
     },
     "execution_count": 19,
     "metadata": {},
     "output_type": "execute_result"
    }
   ],
   "source": [
    "mat_Hz"
   ],
   "metadata": {
    "collapsed": false,
    "ExecuteTime": {
     "start_time": "2023-04-24T19:04:36.615496Z",
     "end_time": "2023-04-24T19:04:36.646769Z"
    }
   }
  },
  {
   "cell_type": "code",
   "execution_count": 20,
   "outputs": [
    {
     "data": {
      "text/plain": "<matplotlib.image.AxesImage at 0x7fb2eff3ce20>"
     },
     "execution_count": 20,
     "metadata": {},
     "output_type": "execute_result"
    },
    {
     "data": {
      "text/plain": "<Figure size 480x480 with 1 Axes>",
      "image/png": "[encoded data removed]"
     },
     "metadata": {},
     "output_type": "display_data"
    }
   ],
   "source": [
    "plt.matshow(mat_Hx)"
   ],
   "metadata": {
    "collapsed": false,
    "ExecuteTime": {
     "start_time": "2023-04-24T19:05:13.033519Z",
     "end_time": "2023-04-24T19:05:13.220562Z"
    }
   }
  },
  {
   "cell_type": "code",
   "execution_count": 25,
   "outputs": [],
   "source": [
    "GxGz_generator = mat_Hx + mat_Hz + np.pi/2*mat_Hy"
   ],
   "metadata": {
    "collapsed": false,
    "ExecuteTime": {
     "start_time": "2023-04-24T19:11:46.667956Z",
     "end_time": "2023-04-24T19:11:46.675692Z"
    }
   }
  },
  {
   "cell_type": "code",
   "execution_count": 47,
   "outputs": [],
   "source": [
    "commutators = []\n",
    "for idx, x in enumerate(egen_base.features):\n",
    "    comm = GxGz_generator@x - x@GxGz_generator\n",
    "    comm_string = 0\n",
    "    for id_dual, dx in enumerate(egen_base.dual_features):\n",
    "        coef = np.trace(dx@comm)\n",
    "        comm_string += coef*egen_base.vec[id_dual]\n",
    "    commutators.append((egen_base.vec[idx], comm_string))"
   ],
   "metadata": {
    "collapsed": false,
    "ExecuteTime": {
     "start_time": "2023-04-24T19:15:53.508016Z",
     "end_time": "2023-04-24T19:15:53.608514Z"
    }
   }
  },
  {
   "cell_type": "code",
   "execution_count": 48,
   "outputs": [],
   "source": [
    "from IPython.display import display"
   ],
   "metadata": {
    "collapsed": false,
    "ExecuteTime": {
     "start_time": "2023-04-24T19:15:53.863676Z",
     "end_time": "2023-04-24T19:15:53.868994Z"
    }
   }
  },
  {
   "cell_type": "code",
   "execution_count": 49,
   "outputs": [
    {
     "data": {
      "text/plain": "[({H}^{X}_{Gq0}, -2.0*{H}^{Y}_{Gq0} + 3.14159265358979*{H}^{Z}_{Gq0}),\n ({H}^{Y}_{Gq0}, 2.0*{H}^{X}_{Gq0} - 2.0*{H}^{Z}_{Gq0}),\n ({H}^{Z}_{Gq0}, -3.14159265358979*{H}^{X}_{Gq0} + 2.0*{H}^{Y}_{Gq0}),\n ({S}^{X}_{Gq0}, 2.0*{C}^{XxY}_{Gq0} - 3.14159265358979*{C}^{XxZ}_{Gq0}),\n ({C}^{XxY}_{Gq0},\n  2.0*{C}^{XxZ}_{Gq0} - 3.14159265358979*{C}^{YxZ}_{Gq0} - 4.0*{S}^{X}_{Gq0} + 4.0*{S}^{Y}_{Gq0}),\n ({A}^{XxY}_{Gq0}, -2.0*{A}^{XxZ}_{Gq0} - 3.14159265358979*{A}^{YxZ}_{Gq0}),\n ({C}^{XxZ}_{Gq0},\n  -2.0*{C}^{XxY}_{Gq0} + 2.0*{C}^{YxZ}_{Gq0} + 6.28318530717959*{S}^{X}_{Gq0} - 6.28318530717959*{S}^{Z}_{Gq0}),\n ({A}^{XxZ}_{Gq0}, 2.0*{A}^{XxY}_{Gq0} - 2.0*{A}^{YxZ}_{Gq0}),\n ({S}^{Y}_{Gq0}, -2.0*{C}^{XxY}_{Gq0} + 2.0*{C}^{YxZ}_{Gq0}),\n ({C}^{YxZ}_{Gq0},\n  3.14159265358979*{C}^{XxY}_{Gq0} - 2.0*{C}^{XxZ}_{Gq0} - 4.0*{S}^{Y}_{Gq0} + 4.0*{S}^{Z}_{Gq0}),\n ({A}^{YxZ}_{Gq0}, 3.14159265358979*{A}^{XxY}_{Gq0} + 2.0*{A}^{XxZ}_{Gq0}),\n ({S}^{Z}_{Gq0}, 3.14159265358979*{C}^{XxZ}_{Gq0} - 2.0*{C}^{YxZ}_{Gq0})]"
     },
     "execution_count": 49,
     "metadata": {},
     "output_type": "execute_result"
    }
   ],
   "source": [
    "commutators"
   ],
   "metadata": {
    "collapsed": false,
    "ExecuteTime": {
     "start_time": "2023-04-24T19:15:54.200565Z",
     "end_time": "2023-04-24T19:15:54.204813Z"
    }
   }
  },
  {
   "cell_type": "code",
   "execution_count": 40,
   "outputs": [
    {
     "ename": "TypeError",
     "evalue": "'int' object is not subscriptable",
     "output_type": "error",
     "traceback": [
      "\u001B[0;31m---------------------------------------------------------------------------\u001B[0m",
      "\u001B[0;31mTypeError\u001B[0m                                 Traceback (most recent call last)",
      "Cell \u001B[0;32mIn[40], line 2\u001B[0m\n\u001B[1;32m      1\u001B[0m \u001B[38;5;28;01mfor\u001B[39;00m c \u001B[38;5;129;01min\u001B[39;00m commutators:\n\u001B[0;32m----> 2\u001B[0m     display(\u001B[43mc\u001B[49m\u001B[43m[\u001B[49m\u001B[38;5;241;43m0\u001B[39;49m\u001B[43m]\u001B[49m, c[\u001B[38;5;241m1\u001B[39m])\n",
      "\u001B[0;31mTypeError\u001B[0m: 'int' object is not subscriptable"
     ]
    }
   ],
   "source": [
    "for c in commutators:\n",
    "    display(c[0], c[1])"
   ],
   "metadata": {
    "collapsed": false,
    "ExecuteTime": {
     "start_time": "2023-04-24T19:14:42.370175Z",
     "end_time": "2023-04-24T19:14:42.380185Z"
    }
   }
  },
  {
   "cell_type": "code",
   "execution_count": 43,
   "outputs": [
    {
     "data": {
      "text/plain": "0"
     },
     "execution_count": 43,
     "metadata": {},
     "output_type": "execute_result"
    }
   ],
   "source": [
    "commutators[10]"
   ],
   "metadata": {
    "collapsed": false,
    "ExecuteTime": {
     "start_time": "2023-04-24T19:15:22.493023Z",
     "end_time": "2023-04-24T19:15:22.552066Z"
    }
   }
  },
  {
   "cell_type": "code",
   "execution_count": null,
   "outputs": [],
   "source": [],
   "metadata": {
    "collapsed": false
   }
  }
 ],
 "metadata": {
  "kernelspec": {
   "display_name": "Python 3",
   "language": "python",
   "name": "python3"
  },
  "language_info": {
   "codemirror_mode": {
    "name": "ipython",
    "version": 2
   },
   "file_extension": ".py",
   "mimetype": "text/x-python",
   "name": "python",
   "nbconvert_exporter": "python",
   "pygments_lexer": "ipython2",
   "version": "2.7.6"
  }
 },
 "nbformat": 4,
 "nbformat_minor": 0
}
