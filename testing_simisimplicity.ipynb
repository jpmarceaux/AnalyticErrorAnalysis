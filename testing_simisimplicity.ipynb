{
 "cells": [
  {
   "cell_type": "code",
   "execution_count": 1,
   "metadata": {
    "collapsed": true,
    "ExecuteTime": {
     "start_time": "2023-04-25T10:54:52.712765Z",
     "end_time": "2023-04-25T10:54:54.248789Z"
    }
   },
   "outputs": [],
   "source": [
    "import numpy as np\n",
    "\n",
    "from error_generators import *"
   ]
  },
  {
   "cell_type": "markdown",
   "source": [
    "# testing if the algebra is semisimple\n",
    "\n",
    "Given a basis $\\{X_i\\}_i$ for our lie algebra, we construct the structure coefficients:\n",
    "$$ [X_a, X_b] = f_{ab}^c X_c$$\n",
    "\n",
    "We then define a basis for the adjoint representation (note, there are two \"adjoints:\" conjugations and commutators, in this case, we refer to commutators, or the \"small adjoint representation\" as opposed to the big adjoint representation we look at when we define a matrix that represetns $M G M^{-1}$ where $G$ is an element of the group):\n",
    "$$ (T_a)_{bc} = f_{ab}^c $$\n",
    "This in turn allows us to construct \\textbf{Cartan's metric tensor}\n",
    "$$ g_{ab} = - f_{am}^n f_{bn}^m = \\text{tr}(T_a T_b). $$\n",
    "The algebra is semisimple if and only if\n",
    "$$ \\text{det} g_{ab} \\neq 0 $$"
   ],
   "metadata": {
    "collapsed": false
   }
  },
  {
   "cell_type": "code",
   "execution_count": 71,
   "outputs": [
    {
     "name": "stderr",
     "output_type": "stream",
     "text": [
      "/home/jpmarceaux/PycharmProjects/AnalyticErrorAnalysis/venv/lib/python3.10/site-packages/pygsti/modelmembers/operations/lindbladerrorgen.py:1691: UserWarning: Using 'CPTP' as a Lindblad type is deprecated, and you should now use 'CPTPLND'\n",
      "  _warnings.warn(\"Using 'CPTP' as a Lindblad type is deprecated, and you should now use 'CPTPLND'\")\n"
     ]
    }
   ],
   "source": [
    "egen = ErrorGen(2)\n",
    "fvec = np.array(egen.features)\n",
    "dvec = np.array(egen.dual_features)"
   ],
   "metadata": {
    "collapsed": false,
    "ExecuteTime": {
     "start_time": "2023-04-25T11:37:21.226758Z",
     "end_time": "2023-04-25T11:37:21.856473Z"
    }
   }
  },
  {
   "cell_type": "code",
   "execution_count": 72,
   "outputs": [],
   "source": [
    "# calculate the commutators\n",
    "# only need to calculate the lower triangle of the matrix\n",
    "comms = np.zeros((len(fvec), len(fvec), *fvec[0].shape))\n",
    "for i in range(len(fvec)):\n",
    "    for j in range(0, i):\n",
    "        commutator = fvec[i]@fvec[j] - fvec[j]@fvec[i]\n",
    "        comms[i, j, :, :] = commutator\n",
    "        comms[j, i, :, :] = -commutator"
   ],
   "metadata": {
    "collapsed": false,
    "ExecuteTime": {
     "start_time": "2023-04-25T11:37:22.433355Z",
     "end_time": "2023-04-25T11:37:22.747695Z"
    }
   }
  },
  {
   "cell_type": "code",
   "execution_count": 73,
   "outputs": [],
   "source": [
    "structure_coefs = np.einsum('aij,bcji->bca', dvec, comms)"
   ],
   "metadata": {
    "collapsed": false,
    "ExecuteTime": {
     "start_time": "2023-04-25T11:37:23.274694Z",
     "end_time": "2023-04-25T11:37:28.250423Z"
    }
   }
  },
  {
   "cell_type": "code",
   "execution_count": 74,
   "outputs": [],
   "source": [
    "# # uncomment to check my einsum\n",
    "# svec = np.zeros((len(fvec), len(fvec), len(fvec)))\n",
    "# for i in range(len(fvec)):\n",
    "#     for j in range(len(fvec)):\n",
    "#         commutator = fvec[i] @ fvec[j] - fvec[j] @ fvec[i]\n",
    "#         for k in range(len(fvec)):\n",
    "#             svec[i, j, k] = np.trace(dvec[k] @ commutator)\n",
    "# assert np.all(svec == structure_coefs)"
   ],
   "metadata": {
    "collapsed": false,
    "ExecuteTime": {
     "start_time": "2023-04-25T11:37:28.848558Z",
     "end_time": "2023-04-25T11:37:28.859709Z"
    }
   }
  },
  {
   "cell_type": "code",
   "execution_count": 75,
   "outputs": [],
   "source": [
    "cartan_metric = np.einsum('amn,bnm->ab', structure_coefs, structure_coefs)"
   ],
   "metadata": {
    "collapsed": false,
    "ExecuteTime": {
     "start_time": "2023-04-25T11:37:29.349627Z",
     "end_time": "2023-04-25T11:37:35.383355Z"
    }
   }
  },
  {
   "cell_type": "code",
   "execution_count": 76,
   "outputs": [
    {
     "data": {
      "text/plain": "<matplotlib.image.AxesImage at 0x7f28c9096410>"
     },
     "execution_count": 76,
     "metadata": {},
     "output_type": "execute_result"
    },
    {
     "data": {
      "text/plain": "<Figure size 480x480 with 1 Axes>",
      "image/png": "[encoded data removed]"
     },
     "metadata": {},
     "output_type": "display_data"
    }
   ],
   "source": [
    "plt.matshow(cartan_metric)"
   ],
   "metadata": {
    "collapsed": false,
    "ExecuteTime": {
     "start_time": "2023-04-25T11:37:36.292102Z",
     "end_time": "2023-04-25T11:37:36.455824Z"
    }
   }
  },
  {
   "cell_type": "code",
   "execution_count": 77,
   "outputs": [
    {
     "name": "stderr",
     "output_type": "stream",
     "text": [
      "/home/jpmarceaux/PycharmProjects/AnalyticErrorAnalysis/venv/lib/python3.10/site-packages/numpy/linalg/linalg.py:2139: RuntimeWarning: overflow encountered in det\n",
      "  r = _umath_linalg.det(a, signature=signature)\n"
     ]
    },
    {
     "data": {
      "text/plain": "inf"
     },
     "execution_count": 77,
     "metadata": {},
     "output_type": "execute_result"
    }
   ],
   "source": [
    "np.linalg.det(cartan_metric)"
   ],
   "metadata": {
    "collapsed": false,
    "ExecuteTime": {
     "start_time": "2023-04-25T11:37:38.022558Z",
     "end_time": "2023-04-25T11:37:38.036775Z"
    }
   }
  },
  {
   "cell_type": "markdown",
   "source": [
    "So, it looks like the algebra has an affine subgroup, which I think corresponds to depolarizing error that is $S_X + S_Y + S_Z$"
   ],
   "metadata": {
    "collapsed": false
   }
  },
  {
   "cell_type": "code",
   "execution_count": 81,
   "outputs": [
    {
     "data": {
      "text/plain": "array([  256.        +0.00000000e+00j, -7108.18974427+0.00000000e+00j,\n       -7108.18974427+0.00000000e+00j, -7108.18974427+0.00000000e+00j,\n       -7108.18974427+0.00000000e+00j, -7108.18974427+0.00000000e+00j,\n        -464.        +0.00000000e+00j, -7108.18974427+0.00000000e+00j,\n       -7108.18974427+0.00000000e+00j,  -464.        +0.00000000e+00j,\n        -464.        +0.00000000e+00j,   228.18974427+0.00000000e+00j,\n        -928.        +0.00000000e+00j,  -928.        +0.00000000e+00j,\n        -464.        +0.00000000e+00j,  -464.        +0.00000000e+00j,\n        -464.        +0.00000000e+00j,  -464.        +0.00000000e+00j,\n         228.18974427+0.00000000e+00j,   228.18974427+0.00000000e+00j,\n         228.18974427+1.99964451e-13j,   228.18974427-1.99964451e-13j,\n         228.18974427+0.00000000e+00j,   228.18974427+0.00000000e+00j,\n        -992.        +0.00000000e+00j,  -992.        +0.00000000e+00j,\n        -992.        +0.00000000e+00j, -7108.18974427+0.00000000e+00j,\n        -928.        +0.00000000e+00j,  -464.        +0.00000000e+00j,\n        -928.        +0.00000000e+00j,  -928.        +0.00000000e+00j,\n         228.18974427+0.00000000e+00j,   228.18974427+0.00000000e+00j,\n       -7108.18974427+0.00000000e+00j,  -992.        +0.00000000e+00j,\n        -992.        +0.00000000e+00j,  -992.        +0.00000000e+00j,\n       -7108.18974427+0.00000000e+00j,  -464.        +0.00000000e+00j,\n        -464.        +0.00000000e+00j,  -928.        +0.00000000e+00j,\n        -928.        +4.75586163e-13j,  -928.        -4.75586163e-13j,\n       -7108.18974427+0.00000000e+00j, -7108.18974427+0.00000000e+00j,\n        -992.        +0.00000000e+00j,  -992.        +0.00000000e+00j,\n         228.18974427+0.00000000e+00j,   228.18974427+0.00000000e+00j,\n        -992.        +0.00000000e+00j,  -992.        +0.00000000e+00j,\n        -992.        +0.00000000e+00j,  -464.        +0.00000000e+00j,\n       -7108.18974427+0.00000000e+00j,  -464.        +0.00000000e+00j,\n        -928.        +0.00000000e+00j,  -928.        +0.00000000e+00j,\n        -928.        +0.00000000e+00j,  -992.        +0.00000000e+00j,\n       -7108.18974427+0.00000000e+00j,   228.18974427+0.00000000e+00j,\n        -464.        +0.00000000e+00j, -7108.18974427+0.00000000e+00j,\n         228.18974427+0.00000000e+00j,   228.18974427+0.00000000e+00j,\n        -928.        +0.00000000e+00j,  -464.        +0.00000000e+00j,\n        -928.        +0.00000000e+00j,  -992.        +0.00000000e+00j,\n        -992.        +0.00000000e+00j,  -992.        +0.00000000e+00j,\n        -992.        +0.00000000e+00j,   228.18974427+0.00000000e+00j,\n        -928.        +0.00000000e+00j,  -928.        +0.00000000e+00j,\n        -992.        +0.00000000e+00j,  -992.        +0.00000000e+00j,\n        -928.        +0.00000000e+00j,  -928.        +0.00000000e+00j,\n        -928.        +0.00000000e+00j,  -928.        +0.00000000e+00j,\n        -992.        +0.00000000e+00j,  -992.        +0.00000000e+00j,\n        -992.        +0.00000000e+00j,  -928.        +0.00000000e+00j,\n        -928.        +0.00000000e+00j,  -928.        +0.00000000e+00j,\n        -992.        +0.00000000e+00j,  -992.        +0.00000000e+00j,\n        -992.        +0.00000000e+00j,  -928.        +0.00000000e+00j,\n        -928.        +0.00000000e+00j,  -992.        +0.00000000e+00j,\n        -992.        +0.00000000e+00j,  -992.        +0.00000000e+00j,\n        -928.        +0.00000000e+00j,  -928.        +0.00000000e+00j,\n        -928.        +0.00000000e+00j,  -992.        +0.00000000e+00j,\n        -992.        +0.00000000e+00j,  -928.        +0.00000000e+00j,\n        -992.        +0.00000000e+00j,  -992.        +0.00000000e+00j,\n        -928.        +0.00000000e+00j,  -928.        +0.00000000e+00j,\n        -992.        +0.00000000e+00j,  -992.        +0.00000000e+00j,\n        -992.        +0.00000000e+00j,  -992.        +0.00000000e+00j,\n        -992.        +0.00000000e+00j,  -992.        +0.00000000e+00j,\n        -992.        +0.00000000e+00j,  -992.        +0.00000000e+00j,\n        -992.        +0.00000000e+00j,  -992.        +0.00000000e+00j,\n        -992.        +0.00000000e+00j,  -992.        +0.00000000e+00j,\n        -992.        +0.00000000e+00j,  -992.        +0.00000000e+00j,\n        -992.        +0.00000000e+00j,  -992.        +0.00000000e+00j,\n        -992.        +0.00000000e+00j,  -992.        +0.00000000e+00j,\n        -992.        +0.00000000e+00j,  -992.        +0.00000000e+00j,\n        -992.        +0.00000000e+00j,  -992.        +0.00000000e+00j,\n        -992.        +0.00000000e+00j,  -992.        +0.00000000e+00j,\n        -992.        +0.00000000e+00j,  -992.        +0.00000000e+00j,\n        -992.        +0.00000000e+00j,  -992.        +0.00000000e+00j,\n        -992.        +0.00000000e+00j,  -928.        +0.00000000e+00j,\n        -928.        +0.00000000e+00j,  -992.        +0.00000000e+00j,\n        -992.        +0.00000000e+00j,  -928.        +0.00000000e+00j,\n        -928.        +0.00000000e+00j,  -992.        +0.00000000e+00j,\n        -992.        +0.00000000e+00j,  -928.        +0.00000000e+00j,\n        -928.        +0.00000000e+00j,  -992.        +0.00000000e+00j,\n        -992.        +0.00000000e+00j,  -928.        +0.00000000e+00j,\n        -928.        +0.00000000e+00j,  -928.        +0.00000000e+00j,\n        -992.        +0.00000000e+00j,  -928.        +0.00000000e+00j,\n        -992.        +0.00000000e+00j,  -928.        +0.00000000e+00j,\n        -992.        +0.00000000e+00j,  -928.        +0.00000000e+00j,\n        -992.        +0.00000000e+00j,  -928.        +0.00000000e+00j,\n        -992.        +0.00000000e+00j,  -928.        +0.00000000e+00j,\n        -992.        +0.00000000e+00j,  -928.        +0.00000000e+00j,\n        -992.        +0.00000000e+00j,  -928.        +0.00000000e+00j,\n        -928.        +0.00000000e+00j,  -992.        +0.00000000e+00j,\n        -992.        +0.00000000e+00j,  -928.        +0.00000000e+00j,\n        -928.        +0.00000000e+00j,  -992.        +0.00000000e+00j,\n        -992.        +0.00000000e+00j,  -928.        +0.00000000e+00j,\n        -928.        +0.00000000e+00j,  -992.        +0.00000000e+00j,\n        -992.        +0.00000000e+00j,  -992.        +0.00000000e+00j,\n        -992.        +0.00000000e+00j,  -928.        +0.00000000e+00j,\n        -928.        +0.00000000e+00j,  -928.        +0.00000000e+00j,\n        -928.        +0.00000000e+00j,  -928.        +0.00000000e+00j,\n        -928.        +0.00000000e+00j,  -928.        +0.00000000e+00j,\n        -928.        +0.00000000e+00j,  -928.        +0.00000000e+00j,\n        -928.        +0.00000000e+00j,  -928.        +0.00000000e+00j,\n        -928.        +0.00000000e+00j,  -992.        +0.00000000e+00j,\n        -992.        +0.00000000e+00j,  -928.        +0.00000000e+00j,\n        -928.        +0.00000000e+00j,  -992.        +0.00000000e+00j,\n        -992.        +0.00000000e+00j,  -928.        +0.00000000e+00j,\n        -928.        +0.00000000e+00j,  -992.        +0.00000000e+00j,\n        -928.        +0.00000000e+00j,  -992.        +0.00000000e+00j,\n        -928.        +0.00000000e+00j,  -992.        +0.00000000e+00j,\n        -928.        +0.00000000e+00j,  -992.        +0.00000000e+00j,\n        -928.        +0.00000000e+00j,  -992.        +0.00000000e+00j,\n        -992.        +0.00000000e+00j,  -928.        +0.00000000e+00j,\n        -928.        +0.00000000e+00j,  -992.        +0.00000000e+00j,\n        -992.        +0.00000000e+00j,  -928.        +0.00000000e+00j,\n        -992.        +0.00000000e+00j,  -992.        +0.00000000e+00j,\n        -992.        +0.00000000e+00j,  -928.        +0.00000000e+00j,\n        -928.        +0.00000000e+00j,  -928.        +0.00000000e+00j,\n        -928.        +0.00000000e+00j,  -928.        +0.00000000e+00j,\n        -928.        +0.00000000e+00j,  -928.        +0.00000000e+00j,\n        -928.        +0.00000000e+00j,  -992.        +0.00000000e+00j,\n        -992.        +0.00000000e+00j,  -928.        +0.00000000e+00j,\n        -928.        +0.00000000e+00j,  -992.        +0.00000000e+00j,\n        -928.        +0.00000000e+00j,  -992.        +0.00000000e+00j,\n        -928.        +0.00000000e+00j,  -992.        +0.00000000e+00j,\n        -992.        +0.00000000e+00j,  -928.        +0.00000000e+00j,\n        -992.        +0.00000000e+00j,  -992.        +0.00000000e+00j,\n        -992.        +0.00000000e+00j,  -928.        +0.00000000e+00j,\n        -928.        +0.00000000e+00j,  -928.        +0.00000000e+00j])"
     },
     "execution_count": 81,
     "metadata": {},
     "output_type": "execute_result"
    }
   ],
   "source": [
    "np.linalg.eigvals(cartan_metric)"
   ],
   "metadata": {
    "collapsed": false,
    "ExecuteTime": {
     "start_time": "2023-04-25T11:39:30.811708Z",
     "end_time": "2023-04-25T11:39:30.822192Z"
    }
   }
  },
  {
   "cell_type": "code",
   "execution_count": null,
   "outputs": [],
   "source": [],
   "metadata": {
    "collapsed": false
   }
  }
 ],
 "metadata": {
  "kernelspec": {
   "display_name": "Python 3",
   "language": "python",
   "name": "python3"
  },
  "language_info": {
   "codemirror_mode": {
    "name": "ipython",
    "version": 2
   },
   "file_extension": ".py",
   "mimetype": "text/x-python",
   "name": "python",
   "nbconvert_exporter": "python",
   "pygments_lexer": "ipython2",
   "version": "2.7.6"
  }
 },
 "nbformat": 4,
 "nbformat_minor": 0
}
