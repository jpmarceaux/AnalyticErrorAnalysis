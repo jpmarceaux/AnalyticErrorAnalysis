{
 "cells": [
  {
   "cell_type": "code",
   "execution_count": 25,
   "metadata": {
    "collapsed": true,
    "ExecuteTime": {
     "start_time": "2023-04-24T21:40:26.934035Z",
     "end_time": "2023-04-24T21:40:26.981970Z"
    }
   },
   "outputs": [],
   "source": [
    "import matplotlib.pyplot as plt\n",
    "\n",
    "from error_generators import *\n",
    "from IPython.display import display\n",
    "\n",
    "from scipy.linalg import expm, logm"
   ]
  },
  {
   "cell_type": "code",
   "execution_count": 4,
   "outputs": [],
   "source": [
    "from pygsti.modelpacks import smq1Q_XYZI as std\n",
    "target_model = std.target_model()"
   ],
   "metadata": {
    "collapsed": false,
    "ExecuteTime": {
     "start_time": "2023-04-24T21:32:18.531340Z",
     "end_time": "2023-04-24T21:32:18.577610Z"
    }
   }
  },
  {
   "cell_type": "code",
   "execution_count": 80,
   "outputs": [],
   "source": [
    "meas_0 = target_model[('Mdefault')]['0'].to_dense()\n",
    "meas_1 = target_model[('Mdefault')]['1'].to_dense()\n",
    "rho0 = target_model['rho0']\n",
    "rho0.depolarize(1)\n",
    "rho0 = rho0.to_dense()\n",
    "mat_Gx = target_model[('Gxpi2', 0)].to_dense()"
   ],
   "metadata": {
    "collapsed": false,
    "ExecuteTime": {
     "start_time": "2023-04-24T21:51:04.218546Z",
     "end_time": "2023-04-24T21:51:04.229727Z"
    }
   }
  },
  {
   "cell_type": "code",
   "execution_count": 81,
   "outputs": [
    {
     "name": "stdout",
     "output_type": "stream",
     "text": [
      "[0.70710678 0.         0.         0.        ]\n"
     ]
    }
   ],
   "source": [
    "print(rho0)"
   ],
   "metadata": {
    "collapsed": false,
    "ExecuteTime": {
     "start_time": "2023-04-24T21:51:04.790781Z",
     "end_time": "2023-04-24T21:51:04.805498Z"
    }
   }
  },
  {
   "cell_type": "markdown",
   "source": [
    "Consider a gate set that consists of a rotation of $\\pi/2$ about the $X$ axis, and native state prep in all zeros and measurement in computational basis. Then, assert only uniform depolarizing error on the native state prep of the form $\\exp(\\theta_0 dP)$ where $dP$ is the generator of depolarizing error (= $S_X + S_Y + S_Z$)\n",
    "\n",
    "Furthermore, consider only the errors that can be amplified by application of the $X$ gate. These errors are\n",
    "$$\n",
    "    \\{ H_X, S_X, A_{Y \\wedge Z} \\}\n",
    "$$\n",
    "which defines the center of $H_X$.\n",
    "\n",
    "Now, consider the effect of repeated application of $G_X$. If we assume a form for the circuit\n",
    "$$\n",
    "    F_p \\equiv \\bigg( \\exp({\\theta_1 dP + \\theta_2 H_X + \\theta_3 S_X + \\theta_4 A_{Y \\wedge Z} ) \\tilde{G}_X \\bigg) )^p \\equiv (\\exp( \\theta \\cdot d \\theta) \\tilde{G}_X )^p\n",
    "$$\n",
    "then, because the error generator commutes with the gate, we find\n",
    "$$\n",
    "    F_p =  \\exp( p \\theta \\cdot d \\theta_x) \\tilde{G}_X^p.\n",
    "$$\n",
    "\n",
    "Now, look at the effect on model predictions, a model prediction is of the form\n",
    "$$\n",
    "    h_p(\\theta) \\equiv \\langle \\langle 0, 1 \\vert \\exp( p \\theta \\cdot d \\theta) \\tilde{G}_X^p |0 \\rangle \\rangle.\n",
    "$$\n",
    "Consider variations:\n",
    "$$\n",
    "    \\frac{1}{p} \\frac{ d h_p}{d \\theta} \\bigg|_{\\theta = 0} = \\sum_i \\theta_i \\langle \\langle 0, 1 \\vert d \\theta_i \\tilde{G}_X^p |0 \\rangle \\rangle\n",
    "$$\n",
    "Write these out into a matrix $J \\equiv $\n",
    "$$\n",
    "    \\begin{bmatrix}\n",
    "     \\langle \\langle 0, 1 \\vert d \\theta_1 \\tilde{G}_X^1 |0 \\rangle \\rangle,  \\langle \\langle 0, 1 \\vert d \\theta_2 \\tilde{G}_X^1 |0 \\rangle \\rangle, ...,  \\langle \\langle 0, 1 \\vert d \\theta_n \\tilde{G}_X^1 |0 \\rangle \\rangle \\\\\n",
    "     \\langle \\langle 0, 1 \\vert d \\theta_1 \\tilde{G}_X^2 |0 \\rangle \\rangle,  \\langle \\langle 0, 1 \\vert d \\theta_2 \\tilde{G}_X^2 |0 \\rangle \\rangle, ...,  \\langle \\langle 0, 1 \\vert d \\theta_n \\tilde{G}_X^2 |0 \\rangle \\rangle \\\\\n",
    "     \\vdots \\\\\n",
    "     \\langle \\langle 0, 1 \\vert d \\theta_1 \\tilde{G}_X^p |0 \\rangle \\rangle,  \\langle \\langle 0, 1 \\vert d \\theta_2 \\tilde{G}_X^p |0 \\rangle \\rangle, ...,  \\langle \\langle 0, 1 \\vert d \\theta_n \\tilde{G}_X^p |0 \\rangle \\rangle \\\\\n",
    "\\end{bmatrix}\n",
    "$$"
   ],
   "metadata": {
    "collapsed": false
   }
  },
  {
   "cell_type": "code",
   "execution_count": 82,
   "outputs": [],
   "source": [
    "def model_variation(meas_effect, prep_effect, gen_matrix, gate, gate_reps=1):\n",
    "    \"\"\"\n",
    "    calculate\n",
    "    \\langle \\langle 0, 1 \\vert d \\theta_1 \\tilde{G}_X^1 |0 \\rangle \\rangle\n",
    "    \"\"\"\n",
    "    return meas_effect@gen_matrix@np.linalg.matrix_power(gate, gate_reps)@prep_effect"
   ],
   "metadata": {
    "collapsed": false,
    "ExecuteTime": {
     "start_time": "2023-04-24T21:51:05.886989Z",
     "end_time": "2023-04-24T21:51:05.908163Z"
    }
   }
  },
  {
   "cell_type": "code",
   "execution_count": 83,
   "outputs": [
    {
     "name": "stdout",
     "output_type": "stream",
     "text": [
      "[(0, {H}^{X}_{Gq0}), (1, {H}^{Y}_{Gq0}), (2, {H}^{Z}_{Gq0}), (3, {S}^{X}_{Gq0}), (4, {C}^{XxY}_{Gq0}), (5, {A}^{XxY}_{Gq0}), (6, {C}^{XxZ}_{Gq0}), (7, {A}^{XxZ}_{Gq0}), (8, {S}^{Y}_{Gq0}), (9, {C}^{YxZ}_{Gq0}), (10, {A}^{YxZ}_{Gq0}), (11, {S}^{Z}_{Gq0})]\n"
     ]
    }
   ],
   "source": [
    "egen = ErrorGen(1)\n",
    "print([(idx, egen.vec[idx]) for idx in range(len(egen.vec))])\n"
   ],
   "metadata": {
    "collapsed": false,
    "ExecuteTime": {
     "start_time": "2023-04-24T21:51:06.258705Z",
     "end_time": "2023-04-24T21:51:06.281428Z"
    }
   }
  },
  {
   "cell_type": "code",
   "execution_count": 84,
   "outputs": [
    {
     "data": {
      "text/plain": "{H}^{X}_{Gq0}",
      "text/latex": "$\\displaystyle {H}^{X}_{Gq0}$"
     },
     "metadata": {},
     "output_type": "display_data"
    },
    {
     "data": {
      "text/plain": "{S}^{X}_{Gq0}",
      "text/latex": "$\\displaystyle {S}^{X}_{Gq0}$"
     },
     "metadata": {},
     "output_type": "display_data"
    },
    {
     "data": {
      "text/plain": "{S}^{Y}_{Gq0}",
      "text/latex": "$\\displaystyle {S}^{Y}_{Gq0}$"
     },
     "metadata": {},
     "output_type": "display_data"
    },
    {
     "data": {
      "text/plain": "{S}^{Z}_{Gq0}",
      "text/latex": "$\\displaystyle {S}^{Z}_{Gq0}$"
     },
     "metadata": {},
     "output_type": "display_data"
    },
    {
     "data": {
      "text/plain": "{A}^{YxZ}_{Gq0}",
      "text/latex": "$\\displaystyle {A}^{YxZ}_{Gq0}$"
     },
     "metadata": {},
     "output_type": "display_data"
    }
   ],
   "source": [
    "Hx = egen.vec[0]\n",
    "display(Hx)\n",
    "Sx = egen.vec[3]\n",
    "display(Sx)\n",
    "Sy = egen.vec[8]\n",
    "display(Sy)\n",
    "Sz = egen.vec[11]\n",
    "display(Sz)\n",
    "Ayz = egen.vec[10]\n",
    "display(Ayz)"
   ],
   "metadata": {
    "collapsed": false,
    "ExecuteTime": {
     "start_time": "2023-04-24T21:51:06.687053Z",
     "end_time": "2023-04-24T21:51:06.774459Z"
    }
   }
  },
  {
   "cell_type": "code",
   "execution_count": 85,
   "outputs": [
    {
     "name": "stdout",
     "output_type": "stream",
     "text": [
      "[[ 0.  0.  0.  0.]\n",
      " [ 0.  0.  0.  0.]\n",
      " [ 0.  0.  0. -2.]\n",
      " [ 0.  0.  2.  0.]]\n",
      "[[ 0.  0.  0. -0.]\n",
      " [ 0.  0.  0.  0.]\n",
      " [ 0.  0. -2.  0.]\n",
      " [ 0.  0.  0. -2.]]\n",
      "[[ 0.  0.  0.  0.]\n",
      " [-4.  0.  0.  0.]\n",
      " [ 0.  0.  0.  0.]\n",
      " [ 0.  0.  0.  0.]]\n",
      "[[ 0.  0.  0.  0.]\n",
      " [ 0. -4.  0.  0.]\n",
      " [ 0.  0. -4.  0.]\n",
      " [ 0.  0.  0. -4.]]\n"
     ]
    }
   ],
   "source": [
    "mat_Hx = egen.feature_of_param(Hx)\n",
    "print(mat_Hx)\n",
    "mat_Sx = egen.feature_of_param(Sx)\n",
    "print(mat_Sx)\n",
    "mat_Ayz = egen.feature_of_param(Ayz)\n",
    "print(mat_Ayz)\n",
    "mat_dP = egen.feature_of_param(Sx) + egen.feature_of_param(Sy) + egen.feature_of_param(Sz)\n",
    "print(mat_dP)"
   ],
   "metadata": {
    "collapsed": false,
    "ExecuteTime": {
     "start_time": "2023-04-24T21:51:07.086771Z",
     "end_time": "2023-04-24T21:51:07.095482Z"
    }
   }
  },
  {
   "cell_type": "code",
   "execution_count": 86,
   "outputs": [],
   "source": [
    "powers = range(0, 3)\n",
    "matrix_bases = [mat_Hx, mat_Sx, mat_Ayz, mat_dP]\n",
    "jacobian = np.zeros((2*len(powers), len(matrix_bases)))\n",
    "\n",
    "for id_p, p in enumerate(powers):\n",
    "    for id_dp, mat in enumerate(matrix_bases):\n",
    "        jacobian[2*id_p, id_dp] = model_variation(meas_0, rho0, mat, mat_Gx, p)\n",
    "        jacobian[2*id_p+1, id_dp] = model_variation(meas_1, rho0, mat, mat_Gx, p)"
   ],
   "metadata": {
    "collapsed": false,
    "ExecuteTime": {
     "start_time": "2023-04-24T21:51:07.427254Z",
     "end_time": "2023-04-24T21:51:07.436350Z"
    }
   }
  },
  {
   "cell_type": "code",
   "execution_count": 87,
   "outputs": [
    {
     "data": {
      "text/plain": "2"
     },
     "execution_count": 87,
     "metadata": {},
     "output_type": "execute_result"
    }
   ],
   "source": [
    "np.linalg.matrix_rank(jacobian)"
   ],
   "metadata": {
    "collapsed": false,
    "ExecuteTime": {
     "start_time": "2023-04-24T21:51:07.912867Z",
     "end_time": "2023-04-24T21:51:07.925961Z"
    }
   }
  },
  {
   "cell_type": "code",
   "execution_count": 88,
   "outputs": [
    {
     "data": {
      "text/plain": "<matplotlib.image.AxesImage at 0x7fb9c98b8040>"
     },
     "execution_count": 88,
     "metadata": {},
     "output_type": "execute_result"
    },
    {
     "data": {
      "text/plain": "<Figure size 400x600 with 1 Axes>",
      "image/png": "[encoded data removed]"
     },
     "metadata": {},
     "output_type": "display_data"
    }
   ],
   "source": [
    "plt.matshow((jacobian))"
   ],
   "metadata": {
    "collapsed": false,
    "ExecuteTime": {
     "start_time": "2023-04-24T21:51:08.349004Z",
     "end_time": "2023-04-24T21:51:08.617596Z"
    }
   }
  },
  {
   "cell_type": "code",
   "execution_count": null,
   "outputs": [],
   "source": [],
   "metadata": {
    "collapsed": false
   }
  }
 ],
 "metadata": {
  "kernelspec": {
   "display_name": "Python 3",
   "language": "python",
   "name": "python3"
  },
  "language_info": {
   "codemirror_mode": {
    "name": "ipython",
    "version": 2
   },
   "file_extension": ".py",
   "mimetype": "text/x-python",
   "name": "python",
   "nbconvert_exporter": "python",
   "pygments_lexer": "ipython2",
   "version": "2.7.6"
  }
 },
 "nbformat": 4,
 "nbformat_minor": 0
}
